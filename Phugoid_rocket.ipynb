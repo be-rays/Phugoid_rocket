{
 "cells": [
  {
   "cell_type": "code",
   "execution_count": 154,
   "metadata": {
    "collapsed": true
   },
   "outputs": [],
   "source": [
    "import numpy\n",
    "from matplotlib import pyplot\n",
    "%matplotlib inline\n",
    "import math"
   ]
  },
  {
   "cell_type": "markdown",
   "metadata": {},
   "source": [
    "J'ai pris les mêmes bibliothèques que dans l'exemple.\n",
    "Méthode: on doit créer un tableau reprenant les valeurs de h et v entre t=0 et t=T(temps final où la fusée se crashe) toutes les dt=0.1s. Si j'ai bien compris la méthode d'Euler: $$\\frac{dh}{dt}=v \\to h_{n+1}=h_{n}+v_{n}*dt$$ Avec la petite incertitude de savoir s'il faut prendre $v_{n}$ ou $v_{n+1}$ dans la formule? Pour v ça se complique à cause de mp. Je ne sais pas si on peut simplement écrire: $$v_{n+1}=v_{n}+dt*(-g+\\frac{\\dot{m_{p}}}{m_{s}+m{p}}*ve - \\frac{1}{2}*\\rho*v*\\mid{v}\\mid*A*C_{D})$$\n",
    "il faudrait donc calculer mp simultanément."
   ]
  },
  {
   "cell_type": "markdown",
   "metadata": {
    "collapsed": true
   },
   "source": [
    "Je commence par écrire toutes les valeurs initiales"
   ]
  },
  {
   "cell_type": "code",
   "execution_count": 155,
   "metadata": {
    "collapsed": false
   },
   "outputs": [],
   "source": [
    "g=9.81\n",
    "p=1.091\n",
    "r=0.5\n",
    "A=math.pi*r**2\n",
    "ve=325.0\n",
    "ms=50.0\n",
    "CD=0.15\n",
    "dt=0.1\n",
    "h0=0.0\n",
    "v0=0.0"
   ]
  },
  {
   "cell_type": "markdown",
   "metadata": {},
   "source": [
    "on doit calculer le temps final T jusqu'auquel on doit calculer mais le problème c'est qu'il dépend du probleme donc je sais pas comment faire. au final jai mis un nombre assez grand pour pas avoir de probleme avec les indices mais il faudrait peut etre reflechir à une maniere plus maligne de faire pcq la je pense que cest pas super optimal"
   ]
  },
  {
   "cell_type": "code",
   "execution_count": 156,
   "metadata": {
    "collapsed": false
   },
   "outputs": [],
   "source": [
    "T=100.\n",
    "N=int(T/dt)+1\n",
    "t=numpy.arange(0.0,T,0.1)"
   ]
  },
  {
   "cell_type": "markdown",
   "metadata": {},
   "source": [
    "en fait je comprend pas très bien à quoi ça sert ça => c'est une manière de créer une liste de valeurs qu'on pourra obtenir plus tard par méthode d'Euler en remplaçant les zéros de la liste (c'est l'équivalent de partir d'une liste vide et d'append les valeurs, mais ça se révèle mieux de faire comme ça, ici), sauf pour la première qu'on pose tout de suite"
   ]
  },
  {
   "cell_type": "code",
   "execution_count": 157,
   "metadata": {
    "collapsed": false
   },
   "outputs": [],
   "source": [
    "v=numpy.zeros(N)\n",
    "h=numpy.zeros(N)\n",
    "v[0]=v0\n",
    "h[0]=h0\n",
    "ti=0.0"
   ]
  },
  {
   "cell_type": "markdown",
   "metadata": {},
   "source": [
    "j'ai pris comme toi v0=0"
   ]
  },
  {
   "cell_type": "code",
   "execution_count": 158,
   "metadata": {
    "collapsed": false
   },
   "outputs": [],
   "source": [
    "def mp_value(t):\n",
    "    if t<=5.0:\n",
    "        mp=100.0-20.0*t\n",
    "    elif t>5:\n",
    "        mp=0\n",
    "    return mp  "
   ]
  },
  {
   "cell_type": "code",
   "execution_count": 159,
   "metadata": {
    "collapsed": true
   },
   "outputs": [],
   "source": [
    "def mp_dot(t):\n",
    "    if t<=5:\n",
    "        mpdot=20.0\n",
    "    else:\n",
    "        mpdot=0.0\n",
    "    return mpdot"
   ]
  },
  {
   "cell_type": "markdown",
   "metadata": {},
   "source": [
    "j'ai crée une fonction qui calcule la valeur de mp et une autre qui donne simplement $\\dot{mp}$, je pense que ça rend le code après plus lisible puisqu'il ne faudra plus refaire à chaque fois le calcul à l'interieur du code"
   ]
  },
  {
   "cell_type": "code",
   "execution_count": 160,
   "metadata": {
    "collapsed": false
   },
   "outputs": [],
   "source": [
    "n=0\n",
    "while h[n]>=0.0:\n",
    "    n=n+1\n",
    "    ti=ti+dt\n",
    "    v0=v0+dt*(-g+ ((mp_dot(ti)/(ms+mp_value(ti)))*ve)- (1/2)*p*v0*abs(v0)*A*CD)\n",
    "    h0=h0+v0*dt\n",
    "    v[n]=v0\n",
    "    h[n]=h0"
   ]
  },
  {
   "cell_type": "markdown",
   "metadata": {},
   "source": [
    "ici j'ai calculé à la fois h et v et je l'ai fait avec une boucle while pour que le critère d'arrêt ce soit que la fusée a touché le sol et j'ai eu des problème avec la taille de mes liste et du coup jai du mettre T=1000 au dessus pour plus avoir de bug"
   ]
  },
  {
   "cell_type": "code",
   "execution_count": 161,
   "metadata": {
    "collapsed": false
   },
   "outputs": [
    {
     "name": "stdout",
     "output_type": "stream",
     "text": [
      "706\n"
     ]
    }
   ],
   "source": [
    "print(n) #je fais ça pour savoir cb d'étape il a en fait fallu"
   ]
  },
  {
   "cell_type": "markdown",
   "metadata": {},
   "source": [
    "alors je ne comprend pas trop ce qu'il se passe pcq la valeur de n change a chaque fois que je fais ctrl shift, jai deja eu 253 et puis 706 et puis 1 et puis 706... ca n'a aucun sens"
   ]
  },
  {
   "cell_type": "code",
   "execution_count": 162,
   "metadata": {
    "collapsed": false
   },
   "outputs": [
    {
     "name": "stdout",
     "output_type": "stream",
     "text": [
      "-16.118086164\n"
     ]
    }
   ],
   "source": [
    "print(h[n])"
   ]
  },
  {
   "cell_type": "code",
   "execution_count": 165,
   "metadata": {
    "collapsed": false
   },
   "outputs": [
    {
     "name": "stdout",
     "output_type": "stream",
     "text": [
      "16.9984299533\n"
     ]
    }
   ],
   "source": [
    "print(h[705])"
   ]
  },
  {
   "cell_type": "code",
   "execution_count": null,
   "metadata": {
    "collapsed": true
   },
   "outputs": [],
   "source": []
  }
 ],
 "metadata": {
  "anaconda-cloud": {},
  "kernelspec": {
   "display_name": "Python [Root]",
   "language": "python",
   "name": "Python [Root]"
  },
  "language_info": {
   "codemirror_mode": {
    "name": "ipython",
    "version": 2
   },
   "file_extension": ".py",
   "mimetype": "text/x-python",
   "name": "python",
   "nbconvert_exporter": "python",
   "pygments_lexer": "ipython2",
   "version": "2.7.12"
  }
 },
 "nbformat": 4,
 "nbformat_minor": 0
}
