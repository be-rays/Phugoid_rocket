{
 "cells": [
  {
   "cell_type": "code",
   "execution_count": 18,
   "metadata": {
    "collapsed": true
   },
   "outputs": [],
   "source": [
    "import numpy\n",
    "from matplotlib import pyplot\n",
    "%matplotlib inline"
   ]
  },
  {
   "cell_type": "markdown",
   "metadata": {},
   "source": [
    "J'ai pris les mêmes bibliothèques que dans l'exemple.\n",
    "Méthode: on doit créer un tableau reprenant les valeurs de h et v entre t=0 et t=T(temps final où la fusée se crashe) toutes les dt=0.1s. Si j'ai bien compris la méthode d'Euler: $$\\frac{dh}{dt}=v \\to h_{n+1}=h_{n}+v_{n}*dt$$ Avec la petite incertitude de savoir s'il faut prendre $v_{n}$ ou $v_{n+1}$ dans la formule? Pour v ça se complique à cause de mp. Je ne sais pas si on peut simplement écrire: $$v_{n+1}=v_{n}+dt*(-g+\\frac{\\dot{m_{p}}}{m_{s}+m{p}}*ve - \\frac{1}{2}*\\rho*v*\\mid{v}\\mid*A*C_{D})$$\n",
    "il faudrait donc calculer mp simultanément."
   ]
  },
  {
   "cell_type": "markdown",
   "metadata": {
    "collapsed": true
   },
   "source": [
    "Je commence par écrire toutes les valeurs initiales"
   ]
  },
  {
   "cell_type": "code",
   "execution_count": 24,
   "metadata": {
    "collapsed": false
   },
   "outputs": [],
   "source": [
    "g=9.81\n",
    "p=1.091\n",
    "A=3.14*pow(0.5,2) #pow(x,y) renvoie x à la puissance y\n",
    "ve=325.0\n",
    "ms=50.0\n",
    "CD=0.15\n",
    "dt=0.1\n",
    "h0=0\n",
    "v0=ve"
   ]
  },
  {
   "cell_type": "markdown",
   "metadata": {},
   "source": [
    "on doit calculer le temps final T jusqu'auquel on doit calculer mais le problème c'est qu'il dépend du probleme donc je sais pas comment faire. je vais mettre 10 au début pcq mp est définit jusqua t=10 et puis on verra"
   ]
  },
  {
   "cell_type": "code",
   "execution_count": 25,
   "metadata": {
    "collapsed": false
   },
   "outputs": [],
   "source": [
    "T=100.0\n",
    "N=int(T/dt)+1\n",
    "t=numpy.arange(0.0,T,0.1)"
   ]
  },
  {
   "cell_type": "markdown",
   "metadata": {},
   "source": [
    "en fait je comprend pas très bien ce qu'on fait a cet endroit là pcq dans l'exemple je vois pas où on utilise ça apres"
   ]
  },
  {
   "cell_type": "code",
   "execution_count": 36,
   "metadata": {
    "collapsed": false
   },
   "outputs": [],
   "source": [
    "v=numpy.zeros(N)\n",
    "h=numpy.zeros(N)\n",
    "v[0]=v0\n",
    "h[0]=h0\n",
    "time=0.0"
   ]
  },
  {
   "cell_type": "markdown",
   "metadata": {},
   "source": [
    "en fait je sais meme pas ce que c'est la vitesse initiale... je suppose que c'est \"exhaust speed\" mais j'arrive pas à trouver une définition de ce que ca veut dire en francais"
   ]
  },
  {
   "cell_type": "code",
   "execution_count": 37,
   "metadata": {
    "collapsed": false
   },
   "outputs": [],
   "source": [
    "def mp_value(t):\n",
    "    if t<=5.0:\n",
    "        mp=100.0-20.0*t\n",
    "    elif t>5:\n",
    "        mp=0\n",
    "    return mp  "
   ]
  },
  {
   "cell_type": "code",
   "execution_count": 38,
   "metadata": {
    "collapsed": true
   },
   "outputs": [],
   "source": [
    "def mp_dot(t):\n",
    "    if t<=5:\n",
    "        mpdot=20.0\n",
    "    else:\n",
    "        mpdot=0.0\n",
    "    return mpdot"
   ]
  },
  {
   "cell_type": "markdown",
   "metadata": {},
   "source": [
    "j'ai crée une fonction qui calcule la valeur de mp et une autre qui donne simplement $\\dot{mp}$"
   ]
  },
  {
   "cell_type": "code",
   "execution_count": 39,
   "metadata": {
    "collapsed": false
   },
   "outputs": [],
   "source": [
    "for n in range(1,N):\n",
    "    time=time+dt\n",
    "    v0=v0+dt*(-g+mp_dot(time)/(ms+mp_value(time))*ve-1/2*p*v0*abs(v0)*A*CD)\n",
    "    h0=h0+v0*dt"
   ]
  },
  {
   "cell_type": "code",
   "execution_count": null,
   "metadata": {
    "collapsed": true
   },
   "outputs": [],
   "source": []
  }
 ],
 "metadata": {
  "anaconda-cloud": {},
  "kernelspec": {
   "display_name": "Python [Root]",
   "language": "python",
   "name": "Python [Root]"
  },
  "language_info": {
   "codemirror_mode": {
    "name": "ipython",
    "version": 2
   },
   "file_extension": ".py",
   "mimetype": "text/x-python",
   "name": "python",
   "nbconvert_exporter": "python",
   "pygments_lexer": "ipython2",
   "version": "2.7.12"
  }
 },
 "nbformat": 4,
 "nbformat_minor": 0
}
